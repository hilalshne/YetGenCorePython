{
 "cells": [
  {
   "cell_type": "code",
   "execution_count": 1,
   "metadata": {},
   "outputs": [
    {
     "name": "stdout",
     "output_type": "stream",
     "text": [
      "<class 'str'>\n"
     ]
    }
   ],
   "source": [
    "print(type(\"Hilal\"))"
   ]
  },
  {
   "cell_type": "code",
   "execution_count": 3,
   "metadata": {},
   "outputs": [
    {
     "data": {
      "text/plain": [
       "int"
      ]
     },
     "execution_count": 3,
     "metadata": {},
     "output_type": "execute_result"
    }
   ],
   "source": [
    "type(1)"
   ]
  },
  {
   "cell_type": "code",
   "execution_count": 4,
   "metadata": {},
   "outputs": [
    {
     "data": {
      "text/plain": [
       "bool"
      ]
     },
     "execution_count": 4,
     "metadata": {},
     "output_type": "execute_result"
    }
   ],
   "source": [
    "type(True)"
   ]
  },
  {
   "cell_type": "code",
   "execution_count": 5,
   "metadata": {},
   "outputs": [
    {
     "data": {
      "text/plain": [
       "float"
      ]
     },
     "execution_count": 5,
     "metadata": {},
     "output_type": "execute_result"
    }
   ],
   "source": [
    "type(3.14)"
   ]
  },
  {
   "cell_type": "code",
   "execution_count": 6,
   "metadata": {},
   "outputs": [
    {
     "name": "stdout",
     "output_type": "stream",
     "text": [
      "<class 'int'>\n",
      "<class 'bool'>\n",
      "<class 'float'>\n"
     ]
    }
   ],
   "source": [
    "print(type(1))\n",
    "print(type(True))\n",
    "print(type(3.14))"
   ]
  },
  {
   "cell_type": "code",
   "execution_count": 9,
   "metadata": {},
   "outputs": [
    {
     "name": "stdout",
     "output_type": "stream",
     "text": [
      "8\n",
      "2\n",
      "0\n"
     ]
    }
   ],
   "source": [
    "print(2**3)\n",
    "print(2%3)\n",
    "print(2//3)"
   ]
  },
  {
   "cell_type": "code",
   "execution_count": 14,
   "metadata": {},
   "outputs": [
    {
     "name": "stdout",
     "output_type": "stream",
     "text": [
      "p\n",
      "m\n"
     ]
    }
   ],
   "source": [
    "degisken=\"pythonOgreniyorum\"\n",
    "print(degisken[0])\n",
    "print(degisken[-1])"
   ]
  },
  {
   "cell_type": "code",
   "execution_count": 20,
   "metadata": {},
   "outputs": [
    {
     "name": "stdout",
     "output_type": "stream",
     "text": [
      "HilalSahin\n",
      "Hilal Sahin\n",
      "Hilal Sahin 21\n"
     ]
    }
   ],
   "source": [
    "isim= \"Hilal\"\n",
    "yas=21\n",
    "soyisim=\"Sahin\"\n",
    "print(isim + soyisim)\n",
    "print(isim + \" \" + soyisim)"
   ]
  },
  {
   "cell_type": "code",
   "execution_count": 23,
   "metadata": {},
   "outputs": [
    {
     "name": "stdout",
     "output_type": "stream",
     "text": [
      "Hilal Sahin 21\n",
      "Hilal   Sahin   21\n"
     ]
    }
   ],
   "source": [
    "print(isim,soyisim,yas)\n",
    "print(isim, \" \",soyisim,\" \",yas)"
   ]
  },
  {
   "cell_type": "code",
   "execution_count": 24,
   "metadata": {},
   "outputs": [
    {
     "name": "stdout",
     "output_type": "stream",
     "text": [
      "Hilal Sahin 21\n"
     ]
    }
   ],
   "source": [
    "print(f\"{isim} {soyisim} {yas}\")"
   ]
  },
  {
   "cell_type": "code",
   "execution_count": 25,
   "metadata": {},
   "outputs": [
    {
     "name": "stdout",
     "output_type": "stream",
     "text": [
      "True\n",
      "<class 'bool'>\n"
     ]
    }
   ],
   "source": [
    "#Boolen deger sadece True ya da False degerini dondurur.\n",
    "CayVarMi=True\n",
    "print(CayVarMi)\n",
    "print(type(CayVarMi))"
   ]
  },
  {
   "cell_type": "code",
   "execution_count": 33,
   "metadata": {},
   "outputs": [
    {
     "name": "stdout",
     "output_type": "stream",
     "text": [
      "hilal\n",
      "Merhabahilal\n",
      "Merhaba hilal\n",
      "Merhaba hilal\n"
     ]
    }
   ],
   "source": [
    "# input fonksiyonu kullanicidan veri almaya yariyor.\n",
    "# input ile veri alirken string gibi davranir bu yuzden intput alirken sayi alacaksam int ya da float kullanmaliyiz\n",
    "isim= input(\"Isim Giriniz:\")\n",
    "print(isim)\n",
    "print(f\"Merhaba{isim}\")\n",
    "print(\"Merhaba\",isim)\n",
    "print(\"Merhaba \"+isim)"
   ]
  },
  {
   "cell_type": "code",
   "execution_count": 35,
   "metadata": {},
   "outputs": [
    {
     "name": "stdout",
     "output_type": "stream",
     "text": [
      "1034\n"
     ]
    }
   ],
   "source": [
    "sayi1= input(\"Birinci sayiyi giriniz:\")\n",
    "sayi2= input (\"ikinci sayiyi giriniz:\")\n",
    "print(sayi1 + sayi2)"
   ]
  },
  {
   "cell_type": "code",
   "execution_count": 36,
   "metadata": {},
   "outputs": [
    {
     "name": "stdout",
     "output_type": "stream",
     "text": [
      "44\n"
     ]
    }
   ],
   "source": [
    "sayi1= int(input(\"Birinci sayiyi giriniz:\"))\n",
    "sayi2= int(input (\"ikinci sayiyi giriniz:\"))\n",
    "print(sayi1 + sayi2)"
   ]
  },
  {
   "cell_type": "code",
   "execution_count": 38,
   "metadata": {},
   "outputs": [
    {
     "name": "stdout",
     "output_type": "stream",
     "text": [
      "66.0\n",
      "10.0 + 56.0 = 66.0\n"
     ]
    }
   ],
   "source": [
    "sayi1= float(input(\"Birinci sayiyi giriniz:\"))\n",
    "sayi2= float(input (\"ikinci sayiyi giriniz:\"))\n",
    "print(sayi1 + sayi2)\n",
    "\n",
    "print(f\"{sayi1} + {sayi2} = {sayi1 + sayi2}\")"
   ]
  }
 ],
 "metadata": {
  "kernelspec": {
   "display_name": "Python 3",
   "language": "python",
   "name": "python3"
  },
  "language_info": {
   "codemirror_mode": {
    "name": "ipython",
    "version": 3
   },
   "file_extension": ".py",
   "mimetype": "text/x-python",
   "name": "python",
   "nbconvert_exporter": "python",
   "pygments_lexer": "ipython3",
   "version": "3.12.3"
  },
  "orig_nbformat": 4,
  "vscode": {
   "interpreter": {
    "hash": "6491bbd3c7861498ceca5f810ff495ca48eaaad8857aa8ae48a42dff31e5d8e0"
   }
  }
 },
 "nbformat": 4,
 "nbformat_minor": 2
}
