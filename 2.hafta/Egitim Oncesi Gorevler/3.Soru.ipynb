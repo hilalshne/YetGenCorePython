{
 "cells": [
  {
   "attachments": {},
   "cell_type": "markdown",
   "metadata": {},
   "source": [
    "### 3.Soru:\n",
    "x ve y adında iki liste oluşturunuz. Bu listeleri birbiryle yer değiştirerek yazdırınız.\n",
    "\n",
    "```python\n",
    "x = [1,2,3,4,5]\n",
    "y = [5,4,3,2,1]\n",
    "``` \n",
    "\n",
    "```python\t\n",
    "Output:\n",
    "x = [5, 4, 3, 2, 1]\n",
    "y = [1, 2, 3, 4, 5]\n",
    "```"
   ]
  },
  {
   "cell_type": "code",
   "execution_count": 3,
   "metadata": {},
   "outputs": [
    {
     "name": "stdout",
     "output_type": "stream",
     "text": [
      "Önceki x: [1, 2, 3, 4, 5]\n",
      "Önceki y: [5, 4, 3, 2, 1]\n",
      "Sonraki x: [5, 4, 3, 2, 1]\n",
      "Sonraki y: [1, 2, 3, 4, 5]\n"
     ]
    }
   ],
   "source": [
    "x = [1, 2, 3, 4, 5]\n",
    "y = [5, 4, 3, 2, 1]\n",
    "\n",
    "print(\"Önceki x:\", x)\n",
    "print(\"Önceki y:\", y)\n",
    "\n",
    "x, y = y, x\n",
    "\n",
    "print(\"Sonraki x:\", x)\n",
    "print(\"Sonraki y:\", y)"
   ]
  },
  {
   "cell_type": "code",
   "execution_count": 5,
   "metadata": {},
   "outputs": [
    {
     "name": "stdout",
     "output_type": "stream",
     "text": [
      "Onceki a: [5, 6, 3, 4]\n",
      "Onceki b: [8, 7, 2, 1]\n",
      "Sonraki a: [8, 7, 2, 1]\n",
      "Sonraki b: [5, 6, 3, 4]\n"
     ]
    }
   ],
   "source": [
    "a= [5,6,3,4]\n",
    "b= [8,7,2,1]\n",
    "\n",
    "print(\"Onceki a:\",a)\n",
    "print(\"Onceki b:\",b)\n",
    "\n",
    "a,b=b,a\n",
    "\n",
    "print(\"Sonraki a:\", a)\n",
    "\n",
    "print(\"Sonraki b:\", b)"
   ]
  },
  {
   "cell_type": "code",
   "execution_count": 7,
   "metadata": {},
   "outputs": [
    {
     "name": "stdout",
     "output_type": "stream",
     "text": [
      "[8, 7, 2, 1]\n",
      "[5, 6, 3, 4]\n"
     ]
    }
   ],
   "source": [
    "a= [5,6,3,4]\n",
    "b= [8,7,2,1]\n",
    "\n",
    "depo=a #C dilinde ve diger dillerde depo algoritmasi calisiyormus a,b=b,a yi diger diller tanimiyormus.\n",
    "a=b\n",
    "b=depo\n",
    "\n",
    "print(a)\n",
    "print(b)"
   ]
  }
 ],
 "metadata": {
  "kernelspec": {
   "display_name": "Python 3",
   "language": "python",
   "name": "python3"
  },
  "language_info": {
   "codemirror_mode": {
    "name": "ipython",
    "version": 3
   },
   "file_extension": ".py",
   "mimetype": "text/x-python",
   "name": "python",
   "nbconvert_exporter": "python",
   "pygments_lexer": "ipython3",
   "version": "3.12.3"
  },
  "orig_nbformat": 4,
  "vscode": {
   "interpreter": {
    "hash": "6491bbd3c7861498ceca5f810ff495ca48eaaad8857aa8ae48a42dff31e5d8e0"
   }
  }
 },
 "nbformat": 4,
 "nbformat_minor": 2
}
